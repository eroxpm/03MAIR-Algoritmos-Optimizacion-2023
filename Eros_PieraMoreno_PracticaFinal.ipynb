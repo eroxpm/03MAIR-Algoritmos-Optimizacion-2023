{
 "cells": [
  {
   "cell_type": "markdown",
   "metadata": {
    "id": "hVbXYX-RfPWh"
   },
   "source": [
    "# Algoritmos de optimización - Trabajo Práctico<br>\n",
    "Nombre y Apellidos: Eros Piera Moreno  <br>\n",
    "Url: <br>\n",
    "Google Colab:  <br>\n",
    "\n",
    "## Problema:\n",
    ">2. Organizar los horarios de partidos de La Liga<br>\n",
    "\n",
    "## Descripción del problema:\n",
    "\n",
    "Desde la La Liga de fútbol profesional se pretende organizar los horarios de los partidos de \n",
    "liga de cada jornada. Se conocen algunos datos que nos deben llevar a diseñar un \n",
    "algoritmo que realice la asignación de los partidos a los horarios de forma que maximice la \n",
    "audiencia. \n",
    "\n",
    "Los horarios disponibles se conocen a priori y son los siguientes:\n",
    "\n",
    "![horarios](horarios.png)\n",
    "\n",
    "En primer lugar se clasifican los equipos en tres categorías según el número de \n",
    "seguidores (que tiene relación directa con la audiencia). Hay 3 equipos en la \n",
    "categoría A, 11 equipos de categoría B y 6 equipos de categoría C.\n",
    "\n",
    "Se conoce estadísticamente la audiencia que genera cada partido según los equipos \n",
    "que se enfrentan y en horario de sábado a las 20h (el mejor en todos los casos):\n",
    "\n",
    "\n",
    "![audiencia](audiencia.png)\n",
    "\n",
    "Si el horario del partido no se realiza a las 20 horas del sábado se sabe que se reduce \n",
    "según los coeficientes de la siguiente tabla:\n",
    "\n",
    "![coeficientes](coeficientes.png)\n",
    "\n",
    "\n",
    "Es posible la coincidencia de horarios pero en este caso la audiencia de cada partido se verá afectada y \n",
    "se estima que se reduce en porcentaje según la siguiente tabla dependiendo del número de coincidencias:\n",
    "\n",
    "Además, cabe destacar que debemos asignar obligatoriamente siempre un partido el viernes y un partido el lunes.\n",
    "\n",
    "![coincidencias](coincidencias.png)\n",
    "\n",
    "\n",
    "\n",
    "\n",
    "\n",
    "\n",
    "\n",
    "                                        "
   ]
  },
  {
   "cell_type": "markdown",
   "metadata": {
    "id": "Sbo9IqQtpaHZ"
   },
   "source": [
    "# Modelo\n",
    "\n",
    "- ¿Como represento el espacio de soluciones?\n",
    "\n",
    "Para representar el espacio de soluciones primero debemos escoger el tipo de dato que más se ajuste a las necesidades del problema. En este caso lo más eficiente sería emplear los diccionarios de python ya que que permiten almacenar pares de datos compuestos por una clave y un valor asociado a esa clave.\n",
    "\n",
    "Las claves en un diccionario deben ser únicas, pero los valores pueden ser de cualquier tipo de datos (números, cadenas, listas, otros diccionarios, etc.). Los diccionarios son estructuras de datos muy versátiles y eficientes para recuperar y manipular datos mediante el acceso rápido a través de las claves.\n",
    "\n",
    "Además, para los valores de los diccionarios que sean inmutables (por la definición del problema a solucionar) se emplearán tuplas ya que son eficientes porque ofrecen acceso directo por índice, son eficientes en la iteración, ocupan un espacio de memoria contiguo y tienen una implementación interna simplificada debido a su inmutabilidad.\n",
    "\n",
    "Teniendo en cuenta estas características en los diccionarios y en las tuplas, el espacio de soluciones se podría representar de esta manera:\n",
    "\n",
    "1. Horarios <br>\n",
    "La clave en este caso es un tipo \"String\" que representa el día y la hora del partido y el valor es un float que representa el coeficiente de audiencia a aplicar para esa franja horaria.<br>\n",
    "**{Clave(Día y hora): \"V20\", Valor(Coeficiente a aplicar para esa franja horaria): 0.4}** <br>\n",
    "Ejemplo: \"V20\": 0.4\n",
    "<br>\n",
    "\n",
    "2. Partidos <br>\n",
    "La clave en este caso es un tipo \"String\" que representa el ID del partido y el valor una tupla que contiene la pareja de equipos que se van a enfrentar.<br>\n",
    "**{Clave(ID del partido): \"0\", Valor(Equipos que se enfrentan): (\"Equipo1\", \"Equipo2\")}**<br>\n",
    "Ejemplo: \"0\" : (\"Barsa\",\"Madrid\")\n",
    "<br>\n",
    "3. Categorías <br>\n",
    "La clave en este caso es un tipo \"String\" que representa la categoría y el valor una tupla que contiene el conjunto de equipos en esa categoría.<br>\n",
    "**{Clave(Categoría A,B,C): \"Categoría A\", Valor(Equipos con mayor audiencia): (\"RMadrid\",\"RSociedad\",\" Barcelona\")}**<br>\n",
    "Ejemplo: \"Categoria A\": (\"RMadrid\",\"RSociedad\",\"Barcelona\")<br>\n",
    "<br>\n",
    "\n",
    "4. Emparejamientos con audiencia <br>\n",
    "**{Clave(Equipo1-Equipo2): \"Barcelona-Madrid\", Valor(Estadística de la audiencia): (2)}**<br>\n",
    "Ejemplo: \"Barcelona-Madrid\": 2\n",
    "\n"
   ]
  },
  {
   "cell_type": "markdown",
   "metadata": {
    "id": "67p_vszBposu"
   },
   "source": [
    "- ¿Cual es la función objetivo?\n",
    "\n",
    "En el contexto de un algoritmo de optimización, la función objetivo juega un papel crucial al evaluar la calidad de una solución. Esta función, típicamente una expresión matemática, cuantifica qué tan efectiva es una solución particular para abordar un problema específico. La meta fundamental de un algoritmo de optimización radica en encontrar la solución más óptima posible. La función objetivo sirve como un criterio para este propósito, permitiendo la comparación y selección entre diferentes soluciones propuestas.\n",
    "\n",
    "Al recibir una o más variables de decisión que caracterizan la solución propuesta, la función objetivo calcula un valor que refleja la calidad de dicha solución. En la mayoría de los casos, el objetivo es maximizar o minimizar este valor, según la naturaleza del problema que se está abordando.\n",
    "\n",
    "En el caso particular que estamos considerando, el objetivo es obtener el máximo número de visualizaciones durante una jornada específica. Para lograr esto, la función objetivo evaluará la efectividad de cada posible solución en términos de generar el mayor número de visualizaciones dentro del contexto dado.\n",
    "\n",
    "Por lo que se trata de un problema de maxificación. En el cual tenemos dos restricciones principales:\n",
    "\n",
    "1. Se debe jugar obligatoriamente un partido el viernes y otro el lunes.\n",
    "2. Si se juega un partido a la misma hora el mismo día se penaliza el nivel de audiencia dada la tabla de la figura X."
   ]
  },
  {
   "cell_type": "markdown",
   "metadata": {
    "id": "AiskKkzZfy4e"
   },
   "source": [
    "- ¿Como implemento las restricciones?\n",
    "\n",
    "He creado una función llamada \"aplicarRestricciones\" a la cual aplico las restricciones de audiencia y de coincidencia en horarios de la jornada una vez que ya he generado el espacio de soluciones."
   ]
  },
  {
   "cell_type": "markdown",
   "metadata": {
    "id": "HZz52wOppp-U"
   },
   "source": [
    "# Análisis"
   ]
  },
  {
   "cell_type": "markdown",
   "metadata": {},
   "source": [
    "- Contabilizar el espacio de soluciones y ¿Orden de complejidad?\n",
    "\n",
    "Para contabilizar el espacio de soluciones, aplicamos combinatoria teniendo en cuenta que se trata de un problema de variación con repetición donde hay que tener en cuenta las restricciones del lunes y el viernes:\n",
    "\n",
    "VR = 10<sup>10</sup> - 2*9<sup>10</sup> + 8<sup>10</sup> = 4.100.173.022\n",
    "\n",
    "Existen 4.100.173.022 de posibles soluciones."
   ]
  },
  {
   "cell_type": "markdown",
   "metadata": {},
   "source": [
    "\n",
    "Este tipo de problemas se categorizan como problemas NP-completos, lo que significa que no existe un algoritmo conocido que pueda encontrar la solución óptima en tiempo polinomial para todas las instancias del problema. En este caso, se requeriría un enfoque heurístico o algoritmos aproximados, que podrían tener una complejidad exponencial en el peor de los casos.\n",
    "\n",
    "Aplicando un algoritmo de fuerza bruta observaríamos todas las posibles soluciones por lo que la complejidad del problema sería exponencial O(2<sup>n</sup>). Por otro lado, buscando una solución razonable (no necesariamente óptima), la complejidad podría ser lineal o incluso cuadrática, dependiendo del enfoque del algoritmo utilizado."
   ]
  },
  {
   "cell_type": "markdown",
   "metadata": {
    "id": "ixEJUwH_pv7M"
   },
   "source": [
    "# Diseño\n",
    "- ¿Que técnica utilizo? ¿Por qué?\n",
    "\n",
    "Recocido simulado con la finalidad de obtener una solución óptima con un coste temporal bajo."
   ]
  },
  {
   "cell_type": "code",
   "execution_count": 106,
   "metadata": {},
   "outputs": [],
   "source": [
    "import random\n",
    "import math\n",
    "import numpy as np\n",
    "import time"
   ]
  },
  {
   "cell_type": "code",
   "execution_count": 77,
   "metadata": {
    "id": "ZdKPjB9gp2BA"
   },
   "outputs": [],
   "source": [
    "#Horarios: Clave: Día/Hora || Valor: Coeficiente audiencia\n",
    "dicSchedule = {'V20': 0.4, 'S12': 0.55, 'S16': 0.7, 'S18': 0.8, 'S20': 1, 'D12':0.45, 'D16':0.75, 'D18':0.85, 'D20':1, 'L20':0.4}\n",
    "\n",
    "#Partidos de la jornada\n",
    "dicGames = {\n",
    "    0: (\"Celta\", \"RealMadrid\"),\n",
    "    1: (\"Valencia\", \"RealSociedad\"),\n",
    "    2: (\"Mallorca\", \"Eibar\"),\n",
    "    3: (\"Athletic\", \"Barcelona\"),\n",
    "    4: (\"Leganés\", \"Osasuna\"),\n",
    "    5: (\"Villareal\", \"Granada\"),\n",
    "    6: (\"Alavés\", \"Levante\"),\n",
    "    7: (\"Espanyol\", \"Sevilla\"),\n",
    "    8: (\"Betis\", \"Valladolid\"),\n",
    "    9: (\"Atlético\", \"Getafe\")\n",
    "}\n",
    "\n",
    "#Categoría de cada equipo por nivel de audiencia\n",
    "dicCategory = {\n",
    "    \"A\": (\"RealMadrid\", \"RealSociedad\", \"Barcelona\"),\n",
    "    \"B\": (\"Celta\", \"Valencia\", \"Athletic\", \"Villareal\", \"Alavés\",\"Levante\", \"Espanyol\", \"Sevilla\", \"Betis\", \"Atlético\", \"Getafe\"),\n",
    "    \"C\": (\"Mallorca\", \"Eibar\", \"Leganés\", \"Osasuna\", \"Granada\", \"Valladolid\")\n",
    "}"
   ]
  },
  {
   "cell_type": "code",
   "execution_count": 78,
   "metadata": {},
   "outputs": [],
   "source": [
    "## Primero hacer una función que genere un diccionario de los equipos que tenemos y les asigne un\n",
    "## peso que correspomnda a su categoría.\n",
    "\n",
    "def asignarCategoria(equipo1,equipo2,categoria):\n",
    "    peso = 0\n",
    "    if ((equipo1 in categoria[\"A\"]) and (equipo2 in categoria[\"A\"])):\n",
    "        peso = 2.0\n",
    "    if ((equipo1 in categoria[\"B\"]) and (equipo2 in categoria[\"B\"])):\n",
    "        peso = 0.9 \n",
    "    if ((equipo1 in categoria[\"C\"]) and (equipo2 in categoria[\"C\"])):\n",
    "        peso = 0.47\n",
    "    if((equipo1 in categoria[\"A\"]) and (equipo2 in categoria[\"B\"])) or ((equipo2 in categoria[\"A\"]) and (equipo1 in categoria[\"B\"])):\n",
    "        peso = 1.3\n",
    "    if((equipo1 in categoria[\"A\"]) and (equipo2 in categoria[\"C\"])) or ((equipo2 in categoria[\"A\"]) and (equipo1 in categoria[\"C\"])):\n",
    "        peso = 1.0\n",
    "    if((equipo1 in categoria[\"B\"]) and (equipo2 in categoria[\"C\"])) or ((equipo2 in categoria[\"B\"]) and (equipo1 in categoria[\"C\"])):\n",
    "        peso = 0.75\n",
    "    return peso\n",
    "\n",
    "def generarJornada(diccionario_original, dicCategory):\n",
    "    diccionario_nuevo = {}\n",
    "    for clave, equipos in diccionario_original.items():\n",
    "        equipo1, equipo2 = equipos\n",
    "        clave_nueva = f\"{equipo1}-{equipo2}\"\n",
    "        peso = asignarCategoria(equipo1,equipo2,dicCategory)  # Darles el valor dependiendo de las categorías\n",
    "        diccionario_nuevo[clave_nueva] = peso\n",
    "    return diccionario_nuevo\n",
    "\n",
    "dicEmparejamientos = generarJornada(dicGames,dicCategory)\n",
    "        "
   ]
  },
  {
   "cell_type": "code",
   "execution_count": 80,
   "metadata": {},
   "outputs": [
    {
     "name": "stdout",
     "output_type": "stream",
     "text": [
      "{'V20': [('Valencia-RealSociedad', 0.52)], 'S12': [('Mallorca-Eibar', 0.14217500000000002), ('Athletic-Barcelona', 0.3932500000000001), ('Betis-Valladolid', 0.22687500000000005)], 'S16': [], 'S18': [('Alavés-Levante', 0.54), ('Atlético-Getafe', 0.54)], 'S20': [('Espanyol-Sevilla', 0.9)], 'D12': [('Villareal-Granada', 0.3375)], 'D16': [], 'D18': [('Leganés-Osasuna', 0.39949999999999997)], 'D20': [], 'L20': [('Celta-RealMadrid', 0.52)]}\n",
      "4.519299999999999\n"
     ]
    }
   ],
   "source": [
    "#Una vez tenemos el diccionario con los emparejamientos y sus niveles de audiencia asociados, tenemos que asignarles de manera\n",
    "#aleatoria un horario teniendo en cuenta que el lunes y el viernes solo puede haber un partido\n",
    "\n",
    "def horarioAleatorio(dicEmparejamientos):\n",
    "    # Separar los horarios en dos grupos: uno que permite múltiples partidos y otro que solo permite un partido\n",
    "    horarios_multiples = {'S12', 'S16', 'S18', 'S20', 'D12', 'D16', 'D18', 'D20'}\n",
    "    horarios_unico_partido = {'V20', 'L20'}\n",
    "\n",
    "    # Inicializar un diccionario para almacenar los emparejamientos asignados a los horarios\n",
    "    asignaciones = {horario: [] for horario in dicSchedule}\n",
    "\n",
    "    # Inicializar un diccionario para contar la cantidad de partidos asignados a cada horario\n",
    "    partidos_por_horario = {horario: 0 for horario in dicSchedule}\n",
    "\n",
    "    # Asignar aleatoriamente los emparejamientos a los horarios\n",
    "    for emparejamiento, audiencia in dicEmparejamientos.items():\n",
    "        if len(horarios_unico_partido) > 0:\n",
    "            horario_seleccionado = random.choice(list(horarios_unico_partido))\n",
    "            horarios_unico_partido.remove(horario_seleccionado)\n",
    "        else:\n",
    "            horario_seleccionado = random.choice(list(horarios_multiples))\n",
    "        asignaciones[horario_seleccionado].append((emparejamiento, audiencia))\n",
    "    return asignaciones\n",
    "    \n",
    "    \n",
    "def aplicarRestricciones(asignaciones,dicSchedule):\n",
    "    # Calcular los coeficientes de penalización por coincidencia de partidos\n",
    "    coeficientes_penalizacion = {0: 0, 1: 0, 2: 0.25, 3: 0.45, 4: 0.6, 5: 0.7, 6: 0.75, 7: 0.78, 8: 0.8}\n",
    "    suma_audiencias = 0\n",
    "    \n",
    "    # Aplicar los coeficientes de penalización y mostrar las asignaciones\n",
    "    for horario, emparejamientos in asignaciones.items():\n",
    "        # Contar la cantidad de partidos asignados a este horario\n",
    "        cantidad_partidos = len(emparejamientos)\n",
    "        # Obtener el coeficiente de penalización correspondiente\n",
    "        coeficiente_penalizacion = coeficientes_penalizacion.get(cantidad_partidos, 0)\n",
    "        for idx, (emparejamiento, audiencia) in enumerate(emparejamientos):\n",
    "            audiencia_total = audiencia * dicSchedule[horario] * (1 - coeficiente_penalizacion)\n",
    "            asignaciones[horario][idx] = (emparejamiento, audiencia_total)\n",
    "            suma_audiencias += audiencia_total\n",
    "    return asignaciones,suma_audiencias\n",
    "\n",
    "horario = horarioAleatorio(dicEmparejamientos)\n",
    "horario_restricciones, audiencia_total = aplicarRestricciones(horario,dicSchedule)\n",
    "\n",
    "print(horario_restricciones)\n",
    "print(audiencia_total)\n"
   ]
  },
  {
   "cell_type": "code",
   "execution_count": 100,
   "metadata": {},
   "outputs": [],
   "source": [
    "##Recocido simulado\n",
    "\n",
    "###############################################################################\n",
    "# SIMULATED ANNEALING\n",
    "###############################################################################\n",
    "\n",
    "#Funcion de probabilidad para aceptar peores soluciones\n",
    "def probabilidad(T,d):\n",
    "  if random.random() <  math.exp( -1*d / T)  :\n",
    "    return True\n",
    "  else:\n",
    "    return False\n",
    "\n",
    "#Funcion de descenso de temperatura\n",
    "def bajar_temperatura(T):\n",
    "  return T*0.99"
   ]
  },
  {
   "cell_type": "code",
   "execution_count": 127,
   "metadata": {},
   "outputs": [
    {
     "name": "stdout",
     "output_type": "stream",
     "text": [
      "La mejor solución encontrada es: \n",
      " \n",
      "{'V20': [('Celta-RealMadrid', 0.52)], 'S12': [('Betis-Valladolid', 0.41250000000000003)], 'S16': [('Leganés-Osasuna', 0.32899999999999996)], 'S18': [('Villareal-Granada', 0.6000000000000001)], 'S20': [('Atlético-Getafe', 0.9)], 'D12': [('Mallorca-Eibar', 0.2115)], 'D16': [('Espanyol-Sevilla', 0.675)], 'D18': [('Alavés-Levante', 0.765)], 'D20': [('Athletic-Barcelona', 1.3)], 'L20': [('Valencia-RealSociedad', 0.52)]}\n",
      "\n",
      "Distancia total: 6.2330000000000005\n",
      "\n",
      "Tiempo de ejecución: 0.02132582664489746 segundos\n"
     ]
    }
   ],
   "source": [
    "def recocido_simulado(dicEmparejamientos, dicSchedule, TEMPERATURA ):\n",
    "\n",
    "    horario = horarioAleatorio(dicEmparejamientos)\n",
    "    solucion_referencia, distancia_referencia = aplicarRestricciones(horario,dicSchedule)\n",
    "\n",
    "    mejor_solucion = []\n",
    "    mejor_distancia = 0\n",
    "    mejor_resultado = solucion_referencia\n",
    "\n",
    "    N=0\n",
    "    while TEMPERATURA > .0001:\n",
    "        N+=1\n",
    "        #Genera una solución vecina\n",
    "        horario = horarioAleatorio(dicEmparejamientos)\n",
    "        solucion_vecina, distancia_vecina = aplicarRestricciones(horario,dicSchedule)\n",
    "\n",
    "        #Si es la mejor solución de todas se guarda(siempre!!!)\n",
    "        if distancia_vecina > mejor_distancia:\n",
    "            mejor_solucion = solucion_vecina\n",
    "            mejor_distancia = distancia_vecina\n",
    "\n",
    "        #Si la nueva vecina es mejor se cambia\n",
    "        #Si es peor se cambia según una probabilidad que depende de T y delta(distancia_referencia - distancia_vecina)\n",
    "        if distancia_vecina > distancia_referencia or probabilidad(TEMPERATURA, abs(distancia_referencia - distancia_vecina)):\n",
    "            solucion_referencia = solucion_vecina\n",
    "            distancia_referencia = distancia_vecina\n",
    "\n",
    "        #Bajamos la temperatura\n",
    "        TEMPERATURA = bajar_temperatura(TEMPERATURA)\n",
    "\n",
    "    return mejor_solucion, mejor_distancia\n",
    "\n",
    "inicio = time.time()\n",
    "\n",
    "sol, dist  = recocido_simulado(dicEmparejamientos, dicSchedule, 10000000)\n",
    "\n",
    "fin = time.time()\n",
    "tiempo_ejecucion = fin - inicio\n",
    "\n",
    "print(\"La mejor solución encontrada es: \\n \\n\" , end=\"\")\n",
    "print(sol)\n",
    "print(\"\\nDistancia total: \" , end=\"\")\n",
    "print(dist)\n",
    "print(\"\\nTiempo de ejecución:\", tiempo_ejecucion, \"segundos\")"
   ]
  },
  {
   "cell_type": "markdown",
   "metadata": {},
   "source": [
    "## Conclusión"
   ]
  },
  {
   "cell_type": "markdown",
   "metadata": {},
   "source": [
    "El algoritmo de recocido simulado ofrece una solución óptima en un tiempo relativamente bajo, aunque no siempre garantiza la mejor solución posible. Sin embargo, su eficiencia radica en su capacidad para producir resultados competitivos en un corto periodo de tiempo, especialmente considerando que su complejidad temporal para este caso está en el orden de milisegundos.\n",
    "\n",
    "Este enfoque de búsqueda heurística es especialmente valioso cuando se enfrenta a problemas complejos donde encontrar la solución óptima en un tiempo razonable es difícil o impracticable debido a la complejidad del espacio de búsqueda. El recocido simulado equilibra la exploración y la explotación del espacio de búsqueda, lo que le permite encontrar soluciones prometedoras mientras evita quedarse estancado en óptimos locales."
   ]
  },
  {
   "cell_type": "code",
   "execution_count": null,
   "metadata": {},
   "outputs": [],
   "source": []
  }
 ],
 "metadata": {
  "colab": {
   "provenance": []
  },
  "kernelspec": {
   "display_name": "Python 3 (ipykernel)",
   "language": "python",
   "name": "python3"
  },
  "language_info": {
   "codemirror_mode": {
    "name": "ipython",
    "version": 3
   },
   "file_extension": ".py",
   "mimetype": "text/x-python",
   "name": "python",
   "nbconvert_exporter": "python",
   "pygments_lexer": "ipython3",
   "version": "3.11.5"
  }
 },
 "nbformat": 4,
 "nbformat_minor": 1
}
